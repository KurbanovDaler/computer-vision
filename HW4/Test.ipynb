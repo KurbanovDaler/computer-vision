{
 "cells": [
  {
   "cell_type": "code",
   "execution_count": null,
   "metadata": {},
   "outputs": [
    {
     "name": "stdout",
     "output_type": "stream",
     "text": [
      "24\n",
      "0\n",
      "7\n",
      "18\n",
      "18\n",
      "15\n",
      "19\n",
      "2\n",
      "14\n",
      "0\n",
      "18\n",
      "15\n",
      "20\n",
      "4\n",
      "14\n",
      "17\n",
      "14\n",
      "20\n",
      "20\n",
      "14\n",
      "3\n",
      "20\n",
      "3\n",
      "20\n"
     ]
    }
   ],
   "source": [
    "import cv2\n",
    "import numpy as np\n",
    "import glob\n",
    "import torch\n",
    "\n",
    "from model import NeuralNetwork\n",
    "\n",
    "net = NeuralNetwork()\n",
    "net.load_state_dict(torch.load('./model.pth'))\n",
    "\n",
    "ls = glob.glob('./images/*.png')\n",
    "for path in ls:\n",
    "    img = cv2.imread(path, 0)\n",
    "    x = img.reshape((1, 784))\n",
    "    x = torch.from_numpy(x).float()\n",
    "\n",
    "    pred = net(x)\n",
    "    pred = pred.data.numpy()\n",
    "    print(pred[0].argmax())\n",
    "\n",
    "    cv2.imshow(\"img\", cv2.resize(img, (500, 500)))\n",
    "    cv2.waitKey(0)"
   ]
  },
  {
   "cell_type": "code",
   "execution_count": null,
   "metadata": {},
   "outputs": [],
   "source": []
  }
 ],
 "metadata": {
  "kernelspec": {
   "display_name": "Python 3",
   "language": "python",
   "name": "python3"
  },
  "language_info": {
   "codemirror_mode": {
    "name": "ipython",
    "version": 3
   },
   "file_extension": ".py",
   "mimetype": "text/x-python",
   "name": "python",
   "nbconvert_exporter": "python",
   "pygments_lexer": "ipython3",
   "version": "3.6.5"
  }
 },
 "nbformat": 4,
 "nbformat_minor": 2
}
